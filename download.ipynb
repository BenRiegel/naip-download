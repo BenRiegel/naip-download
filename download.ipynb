{
 "cells": [
  {
   "attachments": {},
   "cell_type": "markdown",
   "metadata": {},
   "source": [
    "In this project, we will use python to automate the task of downloading a large (36) number of NAIP imagery tiles. We will then read in the datasets sequentially, extract the bounding geometry, and create a shapefile of polygons representing the tile boundaries."
   ]
  },
  {
   "attachments": {},
   "cell_type": "markdown",
   "metadata": {},
   "source": [
    "First, let's import the modules needed for this project."
   ]
  },
  {
   "cell_type": "code",
   "execution_count": 64,
   "metadata": {},
   "outputs": [],
   "source": [
    "import geopandas as gpd\n",
    "import pandas as pd\n",
    "import rasterio\n",
    "import os\n",
    "import requests\n",
    "from shapely.geometry import Polygon"
   ]
  },
  {
   "attachments": {},
   "cell_type": "markdown",
   "metadata": {},
   "source": [
    "The the \"data.csv\" file in the data folder contains a list of imagery file urls that intersect our area of interest. We will first read the data into a pandas dataframe. The data file doesn't have a header so the columns are assigned numerical values."
   ]
  },
  {
   "cell_type": "code",
   "execution_count": null,
   "metadata": {},
   "outputs": [],
   "source": [
    "tile_data = pd.read_csv('./data/data.csv', header=None)\n",
    "tile_data"
   ]
  },
  {
   "attachments": {},
   "cell_type": "markdown",
   "metadata": {},
   "source": [
    "Next, we will create a new empty dataframe and copy to it column number 14, which contains the download urls for the imagery files."
   ]
  },
  {
   "cell_type": "code",
   "execution_count": null,
   "metadata": {},
   "outputs": [],
   "source": [
    "downloads = pd.DataFrame()\n",
    "downloads['url'] = tile_data[14]\n",
    "downloads"
   ]
  },
  {
   "attachments": {},
   "cell_type": "markdown",
   "metadata": {},
   "source": [
    "We will then extract the file names from the url path and store it in the \"file_name\" column."
   ]
  },
  {
   "cell_type": "code",
   "execution_count": null,
   "metadata": {},
   "outputs": [],
   "source": [
    "def get_file_name(url):\n",
    "    return os.path.split(url)[1]\n",
    "\n",
    "downloads['file_name'] = downloads['url'].apply(get_file_name)\n",
    "downloads"
   ]
  },
  {
   "attachments": {},
   "cell_type": "markdown",
   "metadata": {},
   "source": [
    "We will then create a new column \"download_success\" which records whether the download was successful or not. We will assign initial values to false."
   ]
  },
  {
   "cell_type": "code",
   "execution_count": null,
   "metadata": {},
   "outputs": [],
   "source": [
    "downloads['download_success'] = False\n",
    "downloads"
   ]
  },
  {
   "attachments": {},
   "cell_type": "markdown",
   "metadata": {},
   "source": [
    "The next step is to iterate through the rows of the downloads dataframe. In general, there are better ways to iterate through the rows rather than iterrows(). However, it is OK in this case because there are not a lot of records (36), and so there won't be a significant performance penalty.\n",
    "\n",
    "For each row, we will extract the url of the tile and attempt to download it using the requests.get() method. If the status code of the response is 200, then the file has been successfully downloaded.  In that case, we will save the file to the \"tiles/img\" folder and update the downloads dataframe to indicate that the download was successful for that tile."
   ]
  },
  {
   "cell_type": "code",
   "execution_count": 29,
   "metadata": {},
   "outputs": [
    {
     "name": "stdout",
     "output_type": "stream",
     "text": [
      "finished processing file num 1 of 36\n",
      "finished processing file num 2 of 36\n",
      "finished processing file num 3 of 36\n",
      "finished processing file num 4 of 36\n",
      "finished processing file num 5 of 36\n",
      "finished processing file num 6 of 36\n",
      "finished processing file num 7 of 36\n",
      "finished processing file num 8 of 36\n",
      "finished processing file num 9 of 36\n",
      "finished processing file num 10 of 36\n",
      "finished processing file num 11 of 36\n",
      "finished processing file num 12 of 36\n",
      "finished processing file num 13 of 36\n",
      "finished processing file num 14 of 36\n",
      "finished processing file num 15 of 36\n",
      "finished processing file num 16 of 36\n",
      "finished processing file num 17 of 36\n",
      "finished processing file num 18 of 36\n",
      "finished processing file num 19 of 36\n",
      "finished processing file num 20 of 36\n",
      "finished processing file num 21 of 36\n",
      "finished processing file num 22 of 36\n",
      "finished processing file num 23 of 36\n",
      "finished processing file num 24 of 36\n",
      "finished processing file num 25 of 36\n",
      "finished processing file num 26 of 36\n",
      "finished processing file num 27 of 36\n",
      "finished processing file num 28 of 36\n",
      "finished processing file num 29 of 36\n",
      "finished processing file num 30 of 36\n",
      "finished processing file num 31 of 36\n",
      "finished processing file num 32 of 36\n",
      "finished processing file num 33 of 36\n",
      "finished processing file num 34 of 36\n",
      "finished processing file num 35 of 36\n",
      "finished processing file num 36 of 36\n"
     ]
    }
   ],
   "source": [
    "num_rows = len(downloads.index)\n",
    "for index, tile in downloads.iterrows():\n",
    "    url = tile['url']\n",
    "    response = requests.get(url)\n",
    "    if response.status_code == 200:\n",
    "        file_name = tile['file_name']\n",
    "        out_file_path = f'./tiles/img/{file_name}'\n",
    "        with open(out_file_path, 'wb') as handler:\n",
    "            img_data = response.content\n",
    "            handler.write(img_data)\n",
    "        downloads.at[index,'download_success'] = True\n",
    "    print(f'finished processing file num {index+1} of {num_rows}')\n",
    "\n"
   ]
  },
  {
   "attachments": {},
   "cell_type": "markdown",
   "metadata": {},
   "source": [
    "After the files have all been downloaded, we will extract the bounding geometry. For each row in the downloads dataframe, if the download was successful, then we will open the file using the rasterio.open() method. We will then extract the bounding geometry and convert it to a polygon. The result is stored in a data series."
   ]
  },
  {
   "cell_type": "code",
   "execution_count": 70,
   "metadata": {},
   "outputs": [
    {
     "data": {
      "text/plain": [
       "0     POLYGON ((-7618430.581099734 5543150.977266097...\n",
       "1     POLYGON ((-7625388.852902955 5543150.451160067...\n",
       "2     POLYGON ((-7618430.624364643 5533400.132870712...\n",
       "3     POLYGON ((-7625388.486028725 5533400.608641249...\n",
       "4     POLYGON ((-7604515.433672311 5543150.477757988...\n",
       "5     POLYGON ((-7611473.308643891 5543150.783950681...\n",
       "6     POLYGON ((-7604515.899064953 5533400.024699969...\n",
       "7     POLYGON ((-7611473.762201365 5533400.938273258...\n",
       "8     POLYGON ((-7590600.293431066 5543150.103671419...\n",
       "9     POLYGON ((-7597558.158418234 5543150.846230178...\n",
       "10    POLYGON ((-7590600.578854679 5533400.650295801...\n",
       "11    POLYGON ((-7597558.034481674 5533400.988433592...\n",
       "12    POLYGON ((-7583643.014475231 5543150.628223271...\n",
       "13    POLYGON ((-7583643.725840408 5533400.176336662...\n",
       "14    POLYGON ((-7618430.991762367 5523661.019965525...\n",
       "15    POLYGON ((-7625388.452404506 5523661.49644241,...\n",
       "16    POLYGON ((-7618430.890580118 5513933.180829233...\n",
       "17    POLYGON ((-7625388.967684463 5513933.658970937...\n",
       "18    POLYGON ((-7604515.673322159 5523661.900489013...\n",
       "19    POLYGON ((-7611473.135098765 5523661.814631701...\n",
       "20    POLYGON ((-7604515.35800351 5513933.659279696,...\n",
       "21    POLYGON ((-7611473.427502456 5513933.974467094...\n",
       "22    POLYGON ((-7590600.759282827 5523661.112318471...\n",
       "23    POLYGON ((-7597558.222970715 5523661.865740553...\n",
       "24    POLYGON ((-7597558.905931062 5513933.014053428...\n",
       "25    POLYGON ((-7583643.912637901 5523661.625123046...\n",
       "26    POLYGON ((-7618430.718134617 5504215.591695395...\n",
       "27    POLYGON ((-7625388.805077489 5504215.079845568...\n",
       "28    POLYGON ((-7618430.865836328 5494507.228845472...\n",
       "29    POLYGON ((-7625388.577450758 5494507.717352596...\n",
       "30    POLYGON ((-7604515.95329558 5504215.070414319,...\n",
       "31    POLYGON ((-7611473.032298896 5504215.395016056...\n",
       "32    POLYGON ((-7604515.459383619 5494507.698584096...\n",
       "33    POLYGON ((-7611473.162740397 5494507.021860738...\n",
       "34    POLYGON ((-7597558.886073927 5504215.425539141...\n",
       "35    POLYGON ((-7597558.767968292 5494507.054204266...\n",
       "dtype: object"
      ]
     },
     "execution_count": 70,
     "metadata": {},
     "output_type": "execute_result"
    }
   ],
   "source": [
    "def convert_bounds(bounds):\n",
    "    top_left = [bounds.left, bounds.top]\n",
    "    top_right = [bounds.right, bounds.top]\n",
    "    bottom_right = [bounds.right, bounds.bottom]\n",
    "    bottom_left = [bounds.left, bounds.bottom]\n",
    "    return Polygon([top_left, top_right, bottom_right, bottom_left])\n",
    "\n",
    "def process_tile(tile):\n",
    "    if tile['download_success'] == True:\n",
    "        file_name = tile['file_name']\n",
    "        dataset = rasterio.open(f'./tiles/img/{file_name}')\n",
    "        geom = convert_bounds(dataset.bounds)\n",
    "        return geom\n",
    "\n",
    "geom = downloads.apply(process_tile, axis=1)\n",
    "geom"
   ]
  },
  {
   "attachments": {},
   "cell_type": "markdown",
   "metadata": {},
   "source": [
    "We need to get the coorinate reference system of the tiles. We will assume that the CRS is the same for all the downloads. To get it, will extract all the tile records for which the download was successful. We'll select the first one, open it, and store the CRS info."
   ]
  },
  {
   "cell_type": "code",
   "execution_count": 81,
   "metadata": {},
   "outputs": [
    {
     "name": "stdout",
     "output_type": "stream",
     "text": [
      "EPSG:3857\n"
     ]
    }
   ],
   "source": [
    "downloaded = downloads.loc[downloads['download_success']==True]\n",
    "row = downloaded.loc[0]\n",
    "file_name = row['file_name']\n",
    "dataset = rasterio.open(f'./tiles/img/{file_name}')\n",
    "crs = dataset.crs"
   ]
  },
  {
   "attachments": {},
   "cell_type": "markdown",
   "metadata": {},
   "source": [
    "Finally, we will create a new geodataframe using geopandas. We will assign the polygon boundaries data series as the geometry. We will also copy the file names into the dataframe. We will plot the tiles to see what they look like. In the plot, the polygon edges are not visible so it looks like the tiles have been merged, even though they have not been. This is OK. Finally, we will save the data to a shapefile."
   ]
  },
  {
   "cell_type": "code",
   "execution_count": 83,
   "metadata": {},
   "outputs": [
    {
     "data": {
      "image/png": "[encoded data removed]",
      "text/plain": [
       "<Figure size 640x480 with 1 Axes>"
      ]
     },
     "metadata": {},
     "output_type": "display_data"
    }
   ],
   "source": [
    "gdf = gpd.GeoDataFrame(columns=['file_name', 'geometry'], geometry='geometry', crs=crs)\n",
    "gdf['geometry'] = geom\n",
    "gdf['file_name'] = downloads['file_name']\n",
    "gdf.plot()\n",
    "gdf.to_file('./tiles/boundaries/boundaries.shp')"
   ]
  }
 ],
 "metadata": {
  "kernelspec": {
   "display_name": "naip_download",
   "language": "python",
   "name": "python3"
  },
  "language_info": {
   "codemirror_mode": {
    "name": "ipython",
    "version": 3
   },
   "file_extension": ".py",
   "mimetype": "text/x-python",
   "name": "python",
   "nbconvert_exporter": "python",
   "pygments_lexer": "ipython3",
   "version": "3.9.16"
  },
  "orig_nbformat": 4
 },
 "nbformat": 4,
 "nbformat_minor": 2
}
